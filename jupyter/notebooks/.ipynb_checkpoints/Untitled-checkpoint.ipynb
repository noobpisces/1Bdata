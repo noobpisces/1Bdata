{
 "cells": [
  {
   "cell_type": "code",
   "execution_count": 1,
   "id": "bd5fa8a4-11ad-444e-ba37-fe4c3391415f",
   "metadata": {},
   "outputs": [
    {
     "name": "stdout",
     "output_type": "stream",
     "text": [
      "3.5.0\n"
     ]
    }
   ],
   "source": [
    "import pyspark\n",
    "print(pyspark.__version__)\n",
    "\n"
   ]
  },
  {
   "cell_type": "code",
   "execution_count": 1,
   "id": "dfee9012-ebcf-430c-8ee2-fffc1f9e0aa8",
   "metadata": {},
   "outputs": [
    {
     "name": "stdout",
     "output_type": "stream",
     "text": [
      "/home/jovyan/jars/aws-java-sdk-bundle-1.12.262.jar,/home/jovyan/jars/commons-pool2-2.11.1.jar,/home/jovyan/jars/delta-spark_2.12-3.1.0.jar,/home/jovyan/jars/delta-storage-2.4.0.jar,/home/jovyan/jars/hadoop-aws-3.3.4.jar,/home/jovyan/jars/kafka-clients-3.5.0.jar,/home/jovyan/jars/spark-avro_2.12-3.5.0.jar,/home/jovyan/jars/spark-sql-kafka-0-10_2.12-3.5.0.jar,/home/jovyan/jars/spark-token-provider-kafka-0-10_2.12-3.5.0.jar\n"
     ]
    }
   ],
   "source": [
    "from pyspark.sql import SparkSession\n",
    "\n",
    "import glob\n",
    "\n",
    "jars = \",\".join(glob.glob(\"/home/jovyan/jars/*.jar\"))\n",
    "     \n",
    "\n",
    "spark = SparkSession.builder.appName(\"SparkConsumer\") \\\n",
    "                            .master(\"spark://spark-master:7077\") \\\n",
    "                            .config(\"spark.hadoop.fs.s3a.endpoint\", \"http://minio:9000\") \\\n",
    "                            .config(\"spark.jars\", jars) \\\n",
    "                            .config(\"spark.hadoop.fs.s3a.access.key\", \"minio123\") \\\n",
    "                            .config(\"spark.hadoop.fs.s3a.secret.key\", \"minio123\") \\\n",
    "                            .config(\"spark.hadoop.fs.s3a.path.style.access\", \"true\") \\\n",
    "                            .config(\"spark.hadoop.fs.s3a.impl\", \"org.apache.hadoop.fs.s3a.S3AFileSystem\") \\\n",
    "                            .config('spark.sql.warehouse.dir', \"s3a://test/\") \\\n",
    "                            .config(\"spark.sql.extensions\", \"io.delta.sql.DeltaSparkSessionExtension\") \\\n",
    "                            .config(\"spark.sql.catalog.spark_catalog\", \"org.apache.spark.sql.delta.catalog.DeltaCatalog\") \\\n",
    "                            .config(\"spark.delta.logStore.class\", \"org.apache.spark.sql.delta.storage.S3SingleDriverLogStore\") \\\n",
    "                            .config(\"delta.enable-non-concurrent-writes\", \"true\") \\\n",
    "                            .getOrCreate()\n",
    "\n",
    "print(spark.sparkContext.getConf().get(\"spark.jars\"))\n"
   ]
  },
  {
   "cell_type": "code",
   "execution_count": 3,
   "id": "399129e6-f22d-4b2c-b057-378d3aa401ce",
   "metadata": {
    "scrolled": true
   },
   "outputs": [
    {
     "name": "stdout",
     "output_type": "stream",
     "text": [
      "+-------+-------+------+\n",
      "|movieId| imdbId|tmdbId|\n",
      "+-------+-------+------+\n",
      "|      1|0114709|   862|\n",
      "|      2|0113497|  8844|\n",
      "|      3|0113228| 15602|\n",
      "|      4|0114885| 31357|\n",
      "|      5|0113041| 11862|\n",
      "+-------+-------+------+\n",
      "only showing top 5 rows\n",
      "\n"
     ]
    }
   ],
   "source": [
    "\n",
    "spark.read.format(\"csv\").option(\"header\", \"true\").load(\"s3a://test/links.csv\").show(5)"
   ]
  },
  {
   "cell_type": "code",
   "execution_count": 4,
   "id": "2811c819-5ead-4b92-a2c5-64a20f1f9259",
   "metadata": {},
   "outputs": [
    {
     "name": "stdout",
     "output_type": "stream",
     "text": [
      "+---+-------------------+--------------------+--------+----------+------------+------------+----------+--------+--------------------+--------------------+--------------------+--------------------+--------------------+\n",
      "| id|              title|             tagline|  budget|popularity|     revenue|vote_average|vote_count| date_id|          cast_names|      director_names|              genres|       keyword_names|            overview|\n",
      "+---+-------------------+--------------------+--------+----------+------------+------------+----------+--------+--------------------+--------------------+--------------------+--------------------+--------------------+\n",
      "|  3|Shadows in Paradise|                NULL|       0|   2.29211|         0.0|         7.1|      35.0|19861016|[Esko Nikkari, Ka...|    [Aki Kaurismäki]|     [Comedy, Drama]|[garbage, helsink...|An episode in the...|\n",
      "| 11|          Star Wars|A long time ago i...|11000000| 42.149697|7.75398007E8|         8.1|    6778.0|19770525|[Carrie Fisher, H...|      [George Lucas]|[Action, Adventur...|[android, death s...|Princess Leia is ...|\n",
      "| 26|      Walk on Water|He was trained to...| 1400000|  1.709996|         0.0|         6.5|      20.0|20040205|[Caroline Peters,...|         [Eytan Fox]|             [Drama]|[anti semitism, b...|Eyal, an Israeli ...|\n",
      "| 27|            9 Songs|2 lovers, one sum...| 1000000| 18.847707|   1574623.0|         5.1|     103.0|20040716|[Alex Kapranos, C...|[Michael Winterbo...|[Drama, Music, Ro...|[blow job, concer...|Matt, a young gla...|\n",
      "| 33|         Unforgiven|Some legends will...|14000000| 10.942149|1.59157447E8|         7.7|    1133.0|19920807|[Clint Eastwood, ...|    [Clint Eastwood]|           [Western]|[bounty, englishm...|William Munny is ...|\n",
      "+---+-------------------+--------------------+--------+----------+------------+------------+----------+--------+--------------------+--------------------+--------------------+--------------------+--------------------+\n",
      "only showing top 5 rows\n",
      "\n"
     ]
    }
   ],
   "source": [
    "spark_df = spark.read.format(\"delta\").load(\"s3a://test/bronze/clickstream\").show(5)"
   ]
  },
  {
   "cell_type": "code",
   "execution_count": null,
   "id": "791ebab7-96a8-4afa-b54a-a745142f86b5",
   "metadata": {},
   "outputs": [],
   "source": []
  }
 ],
 "metadata": {
  "kernelspec": {
   "display_name": "Python 3 (ipykernel)",
   "language": "python",
   "name": "python3"
  },
  "language_info": {
   "codemirror_mode": {
    "name": "ipython",
    "version": 3
   },
   "file_extension": ".py",
   "mimetype": "text/x-python",
   "name": "python",
   "nbconvert_exporter": "python",
   "pygments_lexer": "ipython3",
   "version": "3.11.6"
  }
 },
 "nbformat": 4,
 "nbformat_minor": 5
}
