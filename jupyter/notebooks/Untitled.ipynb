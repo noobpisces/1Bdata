{
 "cells": [
  {
   "cell_type": "code",
   "execution_count": 1,
   "id": "dfee9012-ebcf-430c-8ee2-fffc1f9e0aa8",
   "metadata": {},
   "outputs": [
    {
     "name": "stdout",
     "output_type": "stream",
     "text": [
      "/home/jovyan/jars/aws-java-sdk-bundle-1.12.262.jar,/home/jovyan/jars/commons-pool2-2.11.1.jar,/home/jovyan/jars/delta-spark_2.12-3.1.0.jar,/home/jovyan/jars/delta-storage-2.4.0.jar,/home/jovyan/jars/hadoop-aws-3.3.4.jar,/home/jovyan/jars/kafka-clients-3.5.0.jar,/home/jovyan/jars/spark-avro_2.12-3.5.0.jar,/home/jovyan/jars/spark-sql-kafka-0-10_2.12-3.5.0.jar,/home/jovyan/jars/spark-token-provider-kafka-0-10_2.12-3.5.0.jar\n"
     ]
    }
   ],
   "source": [
    "from pyspark.sql import SparkSession\n",
    "\n",
    "import glob\n",
    "\n",
    "jars = \",\".join(glob.glob(\"/home/jovyan/jars/*.jar\"))\n",
    "     \n",
    "\n",
    "spark = SparkSession.builder.appName(\"SparkConsumer\") \\\n",
    "                            .config(\"spark.hadoop.fs.s3a.endpoint\", \"http://minio:9000\") \\\n",
    "                            .config(\"spark.jars\", jars) \\\n",
    "                            .config(\"spark.hadoop.fs.s3a.access.key\", \"minio123\") \\\n",
    "                            .config(\"spark.hadoop.fs.s3a.secret.key\", \"minio123\") \\\n",
    "                            .config(\"spark.hadoop.fs.s3a.path.style.access\", \"true\") \\\n",
    "                            .config(\"spark.hadoop.fs.s3a.impl\", \"org.apache.hadoop.fs.s3a.S3AFileSystem\") \\\n",
    "                            .config('spark.sql.warehouse.dir', \"s3a://test/\") \\\n",
    "                            .config(\"spark.sql.extensions\", \"io.delta.sql.DeltaSparkSessionExtension\") \\\n",
    "                            .config(\"spark.sql.catalog.spark_catalog\", \"org.apache.spark.sql.delta.catalog.DeltaCatalog\") \\\n",
    "                            .config(\"spark.delta.logStore.class\", \"org.apache.spark.sql.delta.storage.S3SingleDriverLogStore\") \\\n",
    "                            .config(\"delta.enable-non-concurrent-writes\", \"true\") \\\n",
    "                            .getOrCreate()\n",
    "\n",
    "print(spark.sparkContext.getConf().get(\"spark.jars\"))\n"
   ]
  },
  {
   "cell_type": "code",
   "execution_count": 2,
   "id": "2811c819-5ead-4b92-a2c5-64a20f1f9259",
   "metadata": {},
   "outputs": [],
   "source": [
    "spark_df = spark.read.format(\"delta\").load(\"s3a://test/delta/events\")"
   ]
  },
  {
   "cell_type": "code",
   "execution_count": 3,
   "id": "791ebab7-96a8-4afa-b54a-a745142f86b5",
   "metadata": {},
   "outputs": [
    {
     "data": {
      "text/plain": [
       "6228"
      ]
     },
     "execution_count": 3,
     "metadata": {},
     "output_type": "execute_result"
    }
   ],
   "source": [
    "spark_df.count()"
   ]
  },
  {
   "cell_type": "code",
   "execution_count": 5,
   "id": "e67bcd47-f7dc-4454-805d-f1e9790a67d3",
   "metadata": {},
   "outputs": [
    {
     "name": "stdout",
     "output_type": "stream",
     "text": [
      "+-----------+---------+--------------------+--------------------+----------+-------+--------------------+-------------+-------------------+----------+\n",
      "|   event_id|  user_id|          session_id|                 url|event_type| device|            referrer|    timestamp|         event_time|        dt|\n",
      "+-----------+---------+--------------------+--------------------+----------+-------+--------------------+-------------+-------------------+----------+\n",
      "|event_39329|user_1033|e0068e4e-81f4-468...|            main/tag|     click|tablets|http://www.wood.n...|1756654164380|2025-08-31 15:29:24|2025-08-31|\n",
      "|event_38932|user_1411|e4cdeff9-d511-478...|        app/tag/list|      view| mobile|http://www.stanto...|1756654164389|2025-08-31 15:29:24|2025-08-31|\n",
      "|event_22301|user_5521|18759d61-fa2b-43a...|                 app|     click|tablets|https://hill.com/...|1756654164395|2025-08-31 15:29:24|2025-08-31|\n",
      "|event_94059|user_4514|7de50396-0921-4b3...|          wp-content|     click|Desktop|https://castro.in...|1756654164403|2025-08-31 15:29:24|2025-08-31|\n",
      "|event_52038|user_8682|ca40f1a5-17d6-44c...|        app/app/list|  purchase|tablets|https://www.lebla...|1756654164404|2025-08-31 15:29:24|2025-08-31|\n",
      "|event_59661|user_7962|dbeda516-a074-437...|     categories/list|      view|Desktop|https://www.munoz...|1756654164410|2025-08-31 15:29:24|2025-08-31|\n",
      "|event_54493|user_8595|62773e8d-fc77-416...|               posts|  purchase|tablets|https://delgado.c...|1756654164417|2025-08-31 15:29:24|2025-08-31|\n",
      "|event_60650|user_7746|43bd33ca-8293-4af...|   tag/category/tags|      view| mobile|https://flynn.com...|1756654164430|2025-08-31 15:29:24|2025-08-31|\n",
      "|event_49056|user_7512|1f6e5f98-b2da-486...|search/wp-content...|     click| mobile|https://www.cox-g...|1756654164438|2025-08-31 15:29:24|2025-08-31|\n",
      "|event_10697|user_8301|ac559fad-cd7e-43d...|          posts/main|      view| mobile|http://barnes-hou...|1756654164438|2025-08-31 15:29:24|2025-08-31|\n",
      "| event_2295|user_4859|cc191fac-1611-4c2...|list/explore/cate...|    scroll| mobile|https://www.silva...|1756654164440|2025-08-31 15:29:24|2025-08-31|\n",
      "|event_80023|user_7693|e1a656ff-da01-4b2...|           tag/posts|    scroll| mobile|http://www.fisher...|1756654164445|2025-08-31 15:29:24|2025-08-31|\n",
      "|event_56495|user_1757|c65376b2-7bb0-493...|                main|  purchase| mobile|https://www.patte...|1756654164451|2025-08-31 15:29:24|2025-08-31|\n",
      "|event_71329|user_6139|2a9488b0-1b25-4e5...|      tags/tags/main|      view|tablets|http://www.hooper...|1756654164457|2025-08-31 15:29:24|2025-08-31|\n",
      "|event_93725|user_4121|e74fd91a-a74a-4eb...|                blog|    scroll|Desktop|https://www.payne...|1756654164458|2025-08-31 15:29:24|2025-08-31|\n",
      "|event_28361|user_8477|1dfa1bc8-ddba-4b6...|                blog|     click|Desktop|https://friedman-...|1756654164459|2025-08-31 15:29:24|2025-08-31|\n",
      "|event_57827|user_3049|0d98e6f3-9ab7-4ef...|      explore/search|     click|Desktop|https://atkins-ro...|1756654164482|2025-08-31 15:29:24|2025-08-31|\n",
      "|event_84203|user_5083|04dd70ca-1064-460...|                 tag|  purchase| mobile|https://www.marti...|1756654164504|2025-08-31 15:29:24|2025-08-31|\n",
      "| event_2395|user_4909|fc22e7f9-626c-42d...|                list|      view|tablets|https://www.gilbe...|1756654164507|2025-08-31 15:29:24|2025-08-31|\n",
      "|event_24669|user_8932|44e9c5bc-e3c8-4c4...|           blog/tags|    scroll|Desktop|http://www.lewis....|1756654164507|2025-08-31 15:29:24|2025-08-31|\n",
      "+-----------+---------+--------------------+--------------------+----------+-------+--------------------+-------------+-------------------+----------+\n",
      "only showing top 20 rows\n",
      "\n"
     ]
    }
   ],
   "source": [
    "spark_df.show()"
   ]
  },
  {
   "cell_type": "code",
   "execution_count": null,
   "id": "2a343d12-87ce-4f62-a0aa-e33e5f876faf",
   "metadata": {},
   "outputs": [],
   "source": []
  }
 ],
 "metadata": {
  "kernelspec": {
   "display_name": "Python 3 (ipykernel)",
   "language": "python",
   "name": "python3"
  },
  "language_info": {
   "codemirror_mode": {
    "name": "ipython",
    "version": 3
   },
   "file_extension": ".py",
   "mimetype": "text/x-python",
   "name": "python",
   "nbconvert_exporter": "python",
   "pygments_lexer": "ipython3",
   "version": "3.11.6"
  }
 },
 "nbformat": 4,
 "nbformat_minor": 5
}
