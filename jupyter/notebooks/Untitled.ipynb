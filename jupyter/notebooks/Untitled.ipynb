{
 "cells": [
  {
   "cell_type": "code",
   "execution_count": 1,
   "id": "dfee9012-ebcf-430c-8ee2-fffc1f9e0aa8",
   "metadata": {},
   "outputs": [
    {
     "name": "stdout",
     "output_type": "stream",
     "text": [
      "/home/jovyan/jars/aws-java-sdk-bundle-1.12.262.jar,/home/jovyan/jars/commons-pool2-2.11.1.jar,/home/jovyan/jars/delta-spark_2.12-3.1.0.jar,/home/jovyan/jars/delta-storage-2.4.0.jar,/home/jovyan/jars/hadoop-aws-3.3.4.jar,/home/jovyan/jars/kafka-clients-3.5.0.jar,/home/jovyan/jars/spark-avro_2.12-3.5.0.jar,/home/jovyan/jars/spark-sql-kafka-0-10_2.12-3.5.0.jar,/home/jovyan/jars/spark-token-provider-kafka-0-10_2.12-3.5.0.jar\n"
     ]
    }
   ],
   "source": [
    "from pyspark.sql import SparkSession\n",
    "\n",
    "import glob\n",
    "\n",
    "jars = \",\".join(glob.glob(\"/home/jovyan/jars/*.jar\"))\n",
    "     \n",
    "\n",
    "spark = SparkSession.builder.appName(\"SparkConsumer\") \\\n",
    "                            .config(\"spark.hadoop.fs.s3a.endpoint\", \"http://minio:9000\") \\\n",
    "                            .config(\"spark.jars\", jars) \\\n",
    "                            .config(\"spark.hadoop.fs.s3a.access.key\", \"minio123\") \\\n",
    "                            .config(\"spark.hadoop.fs.s3a.secret.key\", \"minio123\") \\\n",
    "                            .config(\"spark.hadoop.fs.s3a.path.style.access\", \"true\") \\\n",
    "                            .config(\"spark.hadoop.fs.s3a.impl\", \"org.apache.hadoop.fs.s3a.S3AFileSystem\") \\\n",
    "                            .config('spark.sql.warehouse.dir', \"s3a://test/\") \\\n",
    "                            .config(\"spark.sql.extensions\", \"io.delta.sql.DeltaSparkSessionExtension\") \\\n",
    "                            .config(\"spark.sql.catalog.spark_catalog\", \"org.apache.spark.sql.delta.catalog.DeltaCatalog\") \\\n",
    "                            .config(\"spark.delta.logStore.class\", \"org.apache.spark.sql.delta.storage.S3SingleDriverLogStore\") \\\n",
    "                            .config(\"delta.enable-non-concurrent-writes\", \"true\") \\\n",
    "                            .getOrCreate()\n",
    "\n",
    "print(spark.sparkContext.getConf().get(\"spark.jars\"))\n"
   ]
  },
  {
   "cell_type": "code",
   "execution_count": 7,
   "id": "2811c819-5ead-4b92-a2c5-64a20f1f9259",
   "metadata": {},
   "outputs": [],
   "source": [
    "spark_df = spark.read.format(\"delta\").load(\"s3a://test/delta/events\")"
   ]
  },
  {
   "cell_type": "code",
   "execution_count": 9,
   "id": "791ebab7-96a8-4afa-b54a-a745142f86b5",
   "metadata": {},
   "outputs": [
    {
     "data": {
      "text/plain": [
       "74"
      ]
     },
     "execution_count": 9,
     "metadata": {},
     "output_type": "execute_result"
    }
   ],
   "source": [
    "spark_df.count()"
   ]
  },
  {
   "cell_type": "code",
   "execution_count": null,
   "id": "e67bcd47-f7dc-4454-805d-f1e9790a67d3",
   "metadata": {},
   "outputs": [],
   "source": []
  }
 ],
 "metadata": {
  "kernelspec": {
   "display_name": "Python 3 (ipykernel)",
   "language": "python",
   "name": "python3"
  },
  "language_info": {
   "codemirror_mode": {
    "name": "ipython",
    "version": 3
   },
   "file_extension": ".py",
   "mimetype": "text/x-python",
   "name": "python",
   "nbconvert_exporter": "python",
   "pygments_lexer": "ipython3",
   "version": "3.11.6"
  }
 },
 "nbformat": 4,
 "nbformat_minor": 5
}
